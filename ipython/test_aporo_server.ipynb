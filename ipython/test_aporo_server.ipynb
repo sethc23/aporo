{
 "metadata": {
  "name": "",
  "signature": "sha256:c3e7579653b0e21f63333b559bbb5bea8dd38e6c98dbd969eda5bf31f93f5800"
 },
 "nbformat": 3,
 "nbformat_minor": 0,
 "worksheets": [
  {
   "cells": [
    {
     "cell_type": "code",
     "collapsed": true,
     "input": [],
     "language": "python",
     "metadata": {},
     "outputs": []
    }
   ],
   "metadata": {}
  }
 ]
}